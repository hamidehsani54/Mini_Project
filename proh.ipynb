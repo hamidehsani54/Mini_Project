{
 "cells": [
  {
   "cell_type": "code",
   "execution_count": 159,
   "metadata": {},
   "outputs": [],
   "source": [
    "from matplotlib import pyplot as plt\n",
    "import numpy as np\n",
    "import pandas as pd\n",
    "import string\n",
    "import re\n",
    "import os\n",
    "import unidecode as un\n",
    "import random\n",
    "import nltk\n",
    "from sklearn.ensemble import RandomForestClassifier\n",
    "from sklearn.datasets import make_classification\n",
    "from sklearn.feature_extraction.text import TfidfVectorizer\n",
    "from sklearn import preprocessing\n",
    "from sklearn.model_selection import train_test_split\n",
    "from sklearn.metrics import classification_report\n",
    "from sklearn.metrics import confusion_matrix\n",
    "from pandas import DataFrame\n",
    "import seaborn as sn\n",
    "\n",
    "\n"
   ]
  },
  {
   "cell_type": "code",
   "execution_count": 160,
   "metadata": {
    "scrolled": true
   },
   "outputs": [
    {
     "name": "stderr",
     "output_type": "stream",
     "text": [
      "[nltk_data] Downloading package wordnet to\n",
      "[nltk_data]     C:\\Users\\User\\AppData\\Roaming\\nltk_data...\n",
      "[nltk_data]   Package wordnet is already up-to-date!\n",
      "[nltk_data] Downloading package omw-1.4 to\n",
      "[nltk_data]     C:\\Users\\User\\AppData\\Roaming\\nltk_data...\n",
      "[nltk_data]   Package omw-1.4 is already up-to-date!\n"
     ]
    },
    {
     "data": {
      "text/plain": [
       "True"
      ]
     },
     "execution_count": 160,
     "metadata": {},
     "output_type": "execute_result"
    }
   ],
   "source": [
    "letters = \" abcdefghijklmnopqrstuvwxyz0987654231?%!\"\n",
    "lemmatizer = nltk.WordNetLemmatizer()\n",
    "\n",
    "nltk.download('wordnet')\n",
    "nltk.download('omw-1.4')"
   ]
  },
  {
   "cell_type": "code",
   "execution_count": 161,
   "metadata": {},
   "outputs": [
    {
     "name": "stdout",
     "output_type": "stream",
     "text": [
      "business\n",
      "entertainment\n",
      "politics\n",
      "sport\n",
      "tech\n"
     ]
    }
   ],
   "source": [
    "text_data = []\n",
    "text_label = []\n",
    "\n",
    "#preprocessing\n",
    "for folder in os.listdir(\"bbc\"):\n",
    "    print(folder)\n",
    "    for filename in os.listdir(\"bbc/\" + folder):\n",
    "        data = open(\"bbc/\" + folder + \"/\" + filename, mode='r', encoding=\"unicode_escape\")\n",
    "        for line in data:\n",
    "            df = un.unidecode(line).lower()\n",
    "            for x in df:\n",
    "                if(x not in letters):\n",
    "                    df = df.replace(x, '')\n",
    "            output = ' '.join(\n",
    "            [lemmatizer.lemmatize(lemmatizer.lemmatize(lemmatizer.lemmatize(w, 'v'), 'n'), 'a') for w in df.rstrip().split()]\n",
    "            )\n",
    "        text_label.append(folder)            \n",
    "        text_data.append(output)\n",
    "        \n",
    "        "
   ]
  },
  {
   "cell_type": "code",
   "execution_count": 162,
   "metadata": {},
   "outputs": [],
   "source": [
    "def randomOrder(a, b):\n",
    "    c = list(zip(a, b))\n",
    "    random.shuffle(c)\n",
    "\n",
    "    a, b = zip(*c)\n",
    "    return a, b"
   ]
  },
  {
   "cell_type": "code",
   "execution_count": 163,
   "metadata": {},
   "outputs": [],
   "source": [
    "text_data, text_label = randomOrder(text_data, text_label)"
   ]
  },
  {
   "cell_type": "code",
   "execution_count": 164,
   "metadata": {},
   "outputs": [],
   "source": [
    "\n",
    "\n",
    "vectorizer = TfidfVectorizer(min_df=5, norm='l2', encoding='utf-8', ngram_range=(1, 3), sublinear_tf=True, stop_words='english')\n",
    "X = vectorizer.fit_transform(text_data)\n",
    "\n",
    "\n",
    "tfidf_feature = vectorizer.fit_transform(text_data).toarray()\n",
    "\n"
   ]
  },
  {
   "cell_type": "code",
   "execution_count": 165,
   "metadata": {},
   "outputs": [
    {
     "name": "stdout",
     "output_type": "stream",
     "text": [
      "['business' 'entertainment' 'politics' 'sport' 'tech']\n"
     ]
    }
   ],
   "source": [
    "le = preprocessing.LabelEncoder()\n",
    "le.fit(text_label)\n",
    "tr_le = le.transform(text_label)\n",
    "\n",
    "classes = le.classes_\n",
    "print(classes)"
   ]
  },
  {
   "cell_type": "code",
   "execution_count": 166,
   "metadata": {
    "scrolled": true
   },
   "outputs": [
    {
     "data": {
      "text/plain": [
       "RandomForestClassifier(n_estimators=1000)"
      ]
     },
     "execution_count": 166,
     "metadata": {},
     "output_type": "execute_result"
    }
   ],
   "source": [
    "model = RandomForestClassifier(n_estimators= 1000)\n",
    "\n",
    "X_train, X_test, y_train, y_test= train_test_split(tfidf_feature, tr_le, test_size=0.25, random_state=0)\n",
    "\n",
    "model.fit(X_train, y_train)"
   ]
  },
  {
   "cell_type": "code",
   "execution_count": 167,
   "metadata": {},
   "outputs": [],
   "source": [
    "predicted_train = model.predict(X_train)\n",
    "predicted_test = model.predict(X_test)"
   ]
  },
  {
   "cell_type": "code",
   "execution_count": 168,
   "metadata": {},
   "outputs": [
    {
     "name": "stdout",
     "output_type": "stream",
     "text": [
      "              precision    recall  f1-score   support\n",
      "\n",
      "           0       0.93      0.92      0.93       142\n",
      "           1       0.91      0.85      0.88        88\n",
      "           2       0.89      0.92      0.91        99\n",
      "           3       0.87      0.98      0.92       121\n",
      "           4       0.95      0.86      0.90       107\n",
      "\n",
      "    accuracy                           0.91       557\n",
      "   macro avg       0.91      0.91      0.91       557\n",
      "weighted avg       0.91      0.91      0.91       557\n",
      "\n"
     ]
    }
   ],
   "source": [
    "print (classification_report(y_test,predicted_test))"
   ]
  },
  {
   "cell_type": "code",
   "execution_count": 169,
   "metadata": {},
   "outputs": [
    {
     "data": {
      "image/png": "[encoded data removed]",
      "text/plain": [
       "<Figure size 640x480 with 2 Axes>"
      ]
     },
     "metadata": {},
     "output_type": "display_data"
    }
   ],
   "source": [
    "conf_mat = confusion_matrix(y_test, predicted_test)\n",
    "columns =[\"business\", \"entertainment\", \"politics\", \"sport\", \"tech\"]\n",
    "\n",
    "df_cm = DataFrame(conf_mat, index=columns, columns=columns)\n",
    "ax = sn.heatmap(df_cm, cmap='Oranges', annot=True)"
   ]
  },
  {
   "cell_type": "code",
   "execution_count": null,
   "metadata": {},
   "outputs": [],
   "source": []
  },
  {
   "cell_type": "code",
   "execution_count": null,
   "metadata": {},
   "outputs": [],
   "source": []
  },
  {
   "cell_type": "code",
   "execution_count": null,
   "metadata": {},
   "outputs": [],
   "source": []
  }
 ],
 "metadata": {
  "kernelspec": {
   "display_name": "Python 3 (ipykernel)",
   "language": "python",
   "name": "python3"
  },
  "language_info": {
   "codemirror_mode": {
    "name": "ipython",
    "version": 3
   },
   "file_extension": ".py",
   "mimetype": "text/x-python",
   "name": "python",
   "nbconvert_exporter": "python",
   "pygments_lexer": "ipython3",
   "version": "3.9.13"
  },
  "vscode": {
   "interpreter": {
    "hash": "1ab86613c8481168a14b2bad58cf3780c8d147d377801b2fee5228835a13ea58"
   }
  }
 },
 "nbformat": 4,
 "nbformat_minor": 2
}
