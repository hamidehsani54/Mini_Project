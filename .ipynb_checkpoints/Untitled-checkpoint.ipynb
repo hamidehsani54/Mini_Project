{
 "cells": [
  {
   "cell_type": "code",
   "execution_count": 42,
   "id": "4d64402d-57c3-4d1b-8bfa-d6500289c9b7",
   "metadata": {
    "pycharm": {
     "is_executing": true
    }
   },
   "outputs": [
    {
     "name": "stdout",
     "output_type": "stream",
     "text": [
      "business\n",
      "entertainment\n",
      "politics\n",
      "sport\n",
      "tech\n"
     ]
    }
   ],
   "source": [
    "#%%\n",
    "import os\n",
    "import numpy as np\n",
    "import random\n",
    "from sklearn.model_selection import train_test_split\n",
    "import unidecode as un\n",
    "letters = \" abcdefghijklmnopqrstuvwxyz\"\n",
    "text_data =[]\n",
    "text_lable =[]\n",
    "\n",
    "\n",
    "#preprocessing\n",
    "for folder in os.listdir(\"bbc\"):\n",
    "    print(folder)\n",
    "    for filename in os.listdir(\"bbc/\" + folder):\n",
    "        data = open(\"bbc/\" + folder + \"/\" + filename, mode='r', encoding= 'unicode_escape')\n",
    "        for line in data:\n",
    "            df = un.unidecode(line).lower()\n",
    "            for x in df:\n",
    "                if(x not in letters):\n",
    "                    df = df.replace(x, '')\n",
    "        text_data.append(df)\n",
    "        text_lable.append(folder)\n",
    "            \n",
    "       \n"
   ]
  },
  {
   "cell_type": "code",
   "execution_count": 43,
   "id": "3ff55874-a830-465a-a5d4-65fa69bd5b26",
   "metadata": {},
   "outputs": [],
   "source": [
    "#text_data\n"
   ]
  },
  {
   "cell_type": "code",
   "execution_count": 44,
   "id": "90d49500",
   "metadata": {},
   "outputs": [
    {
     "data": {
      "text/plain": [
       "2225"
      ]
     },
     "execution_count": 44,
     "metadata": {},
     "output_type": "execute_result"
    }
   ],
   "source": [
    "len(text_data)"
   ]
  },
  {
   "cell_type": "code",
   "execution_count": 45,
   "id": "b51a81f6",
   "metadata": {},
   "outputs": [
    {
     "data": {
      "text/plain": [
       "'tech'"
      ]
     },
     "execution_count": 45,
     "metadata": {},
     "output_type": "execute_result"
    }
   ],
   "source": [
    "text_lable[2224]"
   ]
  },
  {
   "cell_type": "code",
   "execution_count": 46,
   "id": "8499906e",
   "metadata": {},
   "outputs": [],
   "source": [
    "tr_data = text_data[:1668]\n",
    "tr_label = text_lable[:1668]\n",
    "\n",
    "test_data = text_data[1668:]\n",
    "test_label = text_lable[1668:]\n",
    "\n"
   ]
  },
  {
   "cell_type": "code",
   "execution_count": 47,
   "id": "2b8ca053",
   "metadata": {},
   "outputs": [],
   "source": [
    "c = list(zip(tr_data, tr_label))\n",
    "random.shuffle(c)\n",
    "\n",
    "a,b = zip(*c)\n"
   ]
  },
  {
   "cell_type": "code",
   "execution_count": null,
   "id": "0db15dc7-e9ff-4669-80cf-a9fc218ec868",
   "metadata": {},
   "outputs": [],
   "source": []
  }
 ],
 "metadata": {
  "kernelspec": {
   "display_name": "Python 3 (ipykernel)",
   "language": "python",
   "name": "python3"
  },
  "language_info": {
   "codemirror_mode": {
    "name": "ipython",
    "version": 3
   },
   "file_extension": ".py",
   "mimetype": "text/x-python",
   "name": "python",
   "nbconvert_exporter": "python",
   "pygments_lexer": "ipython3",
   "version": "3.9.13"
  },
  "pycharm": {
   "stem_cell": {
    "cell_type": "raw",
    "metadata": {
     "collapsed": false
    },
    "source": [
     "import os\n",
     "import numpy as np\n",
     "letters = \" abcdefghijklmnopqrstuvwxyz\"\n",
     "\n",
     "for folder in os.listdir(\"bbc\"):\n",
     "    print(folder)\n",
     "    for filename in os.listdir(\"bbc/\" + folder):\n",
     "        data = open(\"bbc/\" + folder + \"/\" + filename, mode='r', encoding='utf-8')\n",
     "        for line in data:\n",
     "            df = up.unidecode(line).lower()\n",
     "        for x in df:\n",
     "            if(x not in letters):\n",
     "                df = data.replace(x, '')"
    ]
   }
  }
 },
 "nbformat": 4,
 "nbformat_minor": 5
}
